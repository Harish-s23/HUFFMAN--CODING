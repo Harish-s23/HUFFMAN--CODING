{
 "cells": [
  {
   "cell_type": "code",
   "execution_count": 4,
   "id": "ebfa4ff9-1f00-4d06-a96f-503e7e56d4cf",
   "metadata": {},
   "outputs": [
    {
     "name": "stdout",
     "output_type": "stream",
     "text": [
      "Character | Huffman Code\n",
      "-------------------------\n",
      "    E    |    000\n",
      "    N    |    001\n",
      "    A    |    01\n",
      "    K    |    100\n",
      "    L    |    101\n",
      "    S    |    110\n",
      "    M    |    1110\n",
      "         |    1111\n"
     ]
    }
   ],
   "source": [
    "input_string = \"ALLAM SESANK\"  \n",
    "frequency = {}\n",
    "for char in input_string:\n",
    "    if char in frequency:\n",
    "        frequency[char] += 1\n",
    "    else:\n",
    "        frequency[char] = 1\n",
    "\n",
    "nodes = [[char, freq] for char, freq in frequency.items()]\n",
    "\n",
    "while len(nodes) > 1:\n",
    "    \n",
    "    nodes = sorted(nodes, key=lambda x: x[1])\n",
    "\n",
    "    left = nodes.pop(0)\n",
    "    right = nodes.pop(0)\n",
    "\n",
    "    new_node = [[left, right], left[1] + right[1]]\n",
    "    nodes.append(new_node)\n",
    "\n",
    "huffman_tree = nodes[0]\n",
    "\n",
    "huffman_codes = {}\n",
    "\n",
    "def generate_codes(tree, code=\"\"):\n",
    "    if isinstance(tree[0], str):  \n",
    "        huffman_codes[tree[0]] = code\n",
    "    else: \n",
    "        generate_codes(tree[0][0], code + \"0\")\n",
    "        generate_codes(tree[0][1], code + \"1\")\n",
    "\n",
    "generate_codes(huffman_tree)\n",
    "print(\"Character | Huffman Code\")\n",
    "print(\"-------------------------\")\n",
    "for char, code in huffman_codes.items():\n",
    "    print(f\"    {char}    |    {code}\")"
   ]
  },
  {
   "cell_type": "code",
   "execution_count": null,
   "id": "c90468a1-4508-4dd7-b5aa-cef6016fd8b4",
   "metadata": {},
   "outputs": [],
   "source": []
  },
  {
   "cell_type": "code",
   "execution_count": null,
   "id": "feb22d96-65ea-43bd-98ec-433f9ccd5d30",
   "metadata": {},
   "outputs": [],
   "source": []
  }
 ],
 "metadata": {
  "kernelspec": {
   "display_name": "Python 3 (ipykernel)",
   "language": "python",
   "name": "python3"
  },
  "language_info": {
   "codemirror_mode": {
    "name": "ipython",
    "version": 3
   },
   "file_extension": ".py",
   "mimetype": "text/x-python",
   "name": "python",
   "nbconvert_exporter": "python",
   "pygments_lexer": "ipython3",
   "version": "3.11.11"
  }
 },
 "nbformat": 4,
 "nbformat_minor": 5
}
